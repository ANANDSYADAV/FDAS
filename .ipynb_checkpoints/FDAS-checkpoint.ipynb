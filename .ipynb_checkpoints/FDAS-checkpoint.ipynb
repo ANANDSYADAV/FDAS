{
 "cells": [
  {
   "cell_type": "code",
   "execution_count": 1,
   "id": "33fa83d6-480e-45df-8bd6-1039b370439f",
   "metadata": {},
   "outputs": [
    {
     "name": "stdout",
     "output_type": "stream",
     "text": [
      "Defaulting to user installation because normal site-packages is not writeable"
     ]
    },
    {
     "name": "stderr",
     "output_type": "stream",
     "text": [
      "  WARNING: The scripts f2py.exe and numpy-config.exe are installed in 'C:\\Users\\anand\\AppData\\Roaming\\Python\\Python313\\Scripts' which is not on PATH.\n",
      "  Consider adding this directory to PATH or, if you prefer to suppress this warning, use --no-warn-script-location.\n",
      "  WARNING: The scripts fonttools.exe, pyftmerge.exe, pyftsubset.exe and ttx.exe are installed in 'C:\\Users\\anand\\AppData\\Roaming\\Python\\Python313\\Scripts' which is not on PATH.\n",
      "  Consider adding this directory to PATH or, if you prefer to suppress this warning, use --no-warn-script-location.\n"
     ]
    },
    {
     "name": "stdout",
     "output_type": "stream",
     "text": [
      "\n",
      "Collecting opencv-python\n",
      "  Using cached opencv_python-4.10.0.84-cp37-abi3-win_amd64.whl.metadata (20 kB)\n",
      "Collecting numpy\n",
      "  Using cached numpy-2.1.2-cp313-cp313-win_amd64.whl.metadata (59 kB)\n",
      "Collecting matplotlib\n",
      "  Using cached matplotlib-3.9.2-cp313-cp313-win_amd64.whl.metadata (11 kB)\n",
      "Collecting pillow\n",
      "  Using cached pillow-11.0.0-cp313-cp313-win_amd64.whl.metadata (9.3 kB)\n",
      "Collecting contourpy>=1.0.1 (from matplotlib)\n",
      "  Using cached contourpy-1.3.0-cp313-cp313-win_amd64.whl.metadata (5.4 kB)\n",
      "Collecting cycler>=0.10 (from matplotlib)\n",
      "  Using cached cycler-0.12.1-py3-none-any.whl.metadata (3.8 kB)\n",
      "Collecting fonttools>=4.22.0 (from matplotlib)\n",
      "  Using cached fonttools-4.54.1-cp313-cp313-win_amd64.whl.metadata (167 kB)\n",
      "Collecting kiwisolver>=1.3.1 (from matplotlib)\n",
      "  Using cached kiwisolver-1.4.7-cp313-cp313-win_amd64.whl.metadata (6.4 kB)\n",
      "Collecting packaging>=20.0 (from matplotlib)\n",
      "  Using cached packaging-24.1-py3-none-any.whl.metadata (3.2 kB)\n",
      "Collecting pyparsing>=2.3.1 (from matplotlib)\n",
      "  Using cached pyparsing-3.2.0-py3-none-any.whl.metadata (5.0 kB)\n",
      "Collecting python-dateutil>=2.7 (from matplotlib)\n",
      "  Using cached python_dateutil-2.9.0.post0-py2.py3-none-any.whl.metadata (8.4 kB)\n",
      "Collecting six>=1.5 (from python-dateutil>=2.7->matplotlib)\n",
      "  Using cached six-1.16.0-py2.py3-none-any.whl.metadata (1.8 kB)\n",
      "Using cached opencv_python-4.10.0.84-cp37-abi3-win_amd64.whl (38.8 MB)\n",
      "Using cached numpy-2.1.2-cp313-cp313-win_amd64.whl (12.6 MB)\n",
      "Using cached matplotlib-3.9.2-cp313-cp313-win_amd64.whl (7.8 MB)\n",
      "Downloading pillow-11.0.0-cp313-cp313-win_amd64.whl (2.6 MB)\n",
      "   ---------------------------------------- 0.0/2.6 MB ? eta -:--:--\n",
      "   ---------------------------------------- 0.0/2.6 MB ? eta -:--:--\n",
      "   ---- ----------------------------------- 0.3/2.6 MB ? eta -:--:--\n",
      "   -------- ------------------------------- 0.5/2.6 MB 671.9 kB/s eta 0:00:04\n",
      "   ------------ --------------------------- 0.8/2.6 MB 666.5 kB/s eta 0:00:03\n",
      "   ---------------- ----------------------- 1.0/2.6 MB 865.2 kB/s eta 0:00:02\n",
      "   ---------------- ----------------------- 1.0/2.6 MB 865.2 kB/s eta 0:00:02\n",
      "   ------------------------ --------------- 1.6/2.6 MB 968.8 kB/s eta 0:00:02\n",
      "   ------------------------ --------------- 1.6/2.6 MB 968.8 kB/s eta 0:00:02\n",
      "   ---------------------------- ----------- 1.8/2.6 MB 918.4 kB/s eta 0:00:01\n",
      "   ---------------------------- ----------- 1.8/2.6 MB 918.4 kB/s eta 0:00:01\n",
      "   ---------------------------- ----------- 1.8/2.6 MB 918.4 kB/s eta 0:00:01\n",
      "   -------------------------------- ------- 2.1/2.6 MB 783.9 kB/s eta 0:00:01\n",
      "   -------------------------------- ------- 2.1/2.6 MB 783.9 kB/s eta 0:00:01\n",
      "   ------------------------------------ --- 2.4/2.6 MB 732.1 kB/s eta 0:00:01\n",
      "   ------------------------------------ --- 2.4/2.6 MB 732.1 kB/s eta 0:00:01\n",
      "   ------------------------------------ --- 2.4/2.6 MB 732.1 kB/s eta 0:00:01\n",
      "   ---------------------------------------- 2.6/2.6 MB 677.0 kB/s eta 0:00:00\n",
      "Using cached contourpy-1.3.0-cp313-cp313-win_amd64.whl (218 kB)\n",
      "Using cached cycler-0.12.1-py3-none-any.whl (8.3 kB)\n",
      "Using cached fonttools-4.54.1-cp313-cp313-win_amd64.whl (2.2 MB)\n",
      "Using cached kiwisolver-1.4.7-cp313-cp313-win_amd64.whl (55 kB)\n",
      "Using cached packaging-24.1-py3-none-any.whl (53 kB)\n",
      "Using cached pyparsing-3.2.0-py3-none-any.whl (106 kB)\n",
      "Using cached python_dateutil-2.9.0.post0-py2.py3-none-any.whl (229 kB)\n",
      "Using cached six-1.16.0-py2.py3-none-any.whl (11 kB)\n",
      "Installing collected packages: six, pyparsing, pillow, packaging, numpy, kiwisolver, fonttools, cycler, python-dateutil, opencv-python, contourpy, matplotlib\n",
      "Successfully installed contourpy-1.3.0 cycler-0.12.1 fonttools-4.54.1 kiwisolver-1.4.7 matplotlib-3.9.2 numpy-2.1.2 opencv-python-4.10.0.84 packaging-24.1 pillow-11.0.0 pyparsing-3.2.0 python-dateutil-2.9.0.post0 six-1.16.0\n"
     ]
    }
   ],
   "source": [
    "!pip install opencv-python numpy matplotlib pillow"
   ]
  },
  {
   "cell_type": "code",
   "execution_count": 2,
   "id": "8e47930a-a476-4f4f-8f4d-98fc1e67eda2",
   "metadata": {},
   "outputs": [],
   "source": [
    "import cv2\n",
    "import os\n",
    "\n",
    "def detect_and_crop_faces(input_folder, output_folder):\n",
    "    # Load OpenCV's Haar Cascade for face detection\n",
    "    face_cascade = cv2.CascadeClassifier(cv2.data.haarcascades + 'haarcascade_frontalface_default.xml')\n",
    "    \n",
    "    # Create output folder if it doesn't exist\n",
    "    if not os.path.exists(output_folder):\n",
    "        os.makedirs(output_folder)\n",
    "\n",
    "    # Iterate over all images in the input folder\n",
    "    for filename in os.listdir(input_folder):\n",
    "        image_path = os.path.join(input_folder, filename)\n",
    "        img = cv2.imread(image_path)\n",
    "        gray = cv2.cvtColor(img, cv2.COLOR_BGR2GRAY)\n",
    "        \n",
    "        # Detect faces in the image\n",
    "        faces = face_cascade.detectMultiScale(gray, 1.3, 5)\n",
    "        \n",
    "        for (x, y, w, h) in faces:\n",
    "            face_img = img[y:y+h, x:x+w]\n",
    "            face_filename = os.path.join(output_folder, filename)\n",
    "            cv2.imwrite(face_filename, face_img)\n",
    "\n",
    "# Example usage for one individual\n",
    "input_folder = r'C:\\Users\\anand\\Desktop\\Attendance System\\dataset\\Anand'\n",
    "output_folder = r'C:\\Users\\anand\\Desktop\\Attendance System\\cropped_faces\\Anand'\n",
    "detect_and_crop_faces(input_folder, output_folder)"
   ]
  },
  {
   "cell_type": "code",
   "execution_count": null,
   "id": "ade07f74-f588-4028-ba45-61c589fdaef4",
   "metadata": {},
   "outputs": [],
   "source": []
  }
 ],
 "metadata": {
  "kernelspec": {
   "display_name": "Python 3 (ipykernel)",
   "language": "python",
   "name": "python3"
  },
  "language_info": {
   "codemirror_mode": {
    "name": "ipython",
    "version": 3
   },
   "file_extension": ".py",
   "mimetype": "text/x-python",
   "name": "python",
   "nbconvert_exporter": "python",
   "pygments_lexer": "ipython3",
   "version": "3.12.4"
  }
 },
 "nbformat": 4,
 "nbformat_minor": 5
}
